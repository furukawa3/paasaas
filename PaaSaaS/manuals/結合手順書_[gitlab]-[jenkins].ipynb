{
 "cells": [
  {
   "cell_type": "markdown",
   "metadata": {
    "lc_cell_meme": {
     "current": "49675a68-b8c2-11e7-9f9e-0242ac110003",
     "history": [
      {
       "current": "49675a68-b8c2-11e7-9f9e-0242ac110003",
       "next": null,
       "previous": null
      }
     ],
     "next": null,
     "previous": null
    }
   },
   "source": [
    "# Jenkinsとgitlabの設定\n",
    "\n",
    "## Gitlabの設定\n",
    "\n",
    "### 初期化\n",
    "1. 初期パスワードが求められるので入力します。\n",
    "2. adminと入力したパスワードを使ってサインインします。\n",
    "\n",
    "\n",
    "### ユーザ作成\n",
    "\n",
    "1．menu[New user]を押下します。\n",
    "2. 以下の項目を入力\n",
    "    * Name: jenkins\n",
    "    * Username: jenkins\n",
    "    * Email: jenkins@localhost\n",
    "    * Externalにチェック\n",
    "3. [Create user]を押下\n",
    "4. 作成したjenkinsユーザの`Edit`を押下します\n",
    "5. パスワードを設定します(ex: `jenkinsjenkins`)\n",
    "6. `Save changes`を押下します\n",
    "\n",
    "### プロジェクト(リポジトリ)を作成\n",
    "1. [New Project]を押下します\n",
    "2. [Blank]を押下します\n",
    "3. [Project path]を入力します\n",
    "4. [Project name]を入力します\n",
    "5. Publicに設定します\n",
    "6. [Create project]を押下します。\n",
    "\n",
    "### 連携したいGitLabプロジェクトにJenkinsユーザを追加する\n",
    "1. 先に作成したプロジェクトを開きます\n",
    "2. `Settings` -> `Members`を選択\n",
    "3．`Select members to invite`に`jenkins`を追加します\n",
    "4. `Choose a role permission`を`Reporter`にします\n",
    "5. [Add users to project]を押下します\n",
    "\n",
    "\n",
    "### WebHookの設定\n",
    "後述のJenkinsの設定が必要\n",
    "\n",
    "1. [Settings]->[Integrations]を開く\n",
    "2. [URL]にJenkinsのURLを記入\n",
    "    * http://157.1.141.86:18081/jenkins/gitbucket-webhook/\n",
    "3. トークンを設定(Jenkins側で生成したものをここに貼り付ける)\n",
    "4. [Trigger]に以下を選択\n",
    "    * Push events\n",
    "5. [Enable SSL verification]のチェックを外す\n",
    "6. [Add webhook]を押下\n",
    "    \n",
    "\n",
    "## Jenkinsの設定\n",
    "\n",
    "### 初期化\n",
    "1. URLにアクセスするとトークンが求められるので`/var/jenkins_home/secrets/initialAdminPassword`調べて入力\n",
    "2. Install Pluginsを選択(すこしうろ覚え)\n",
    "3. 以下の項目を入力\n",
    "    * ユーザー名\n",
    "    * パスワード\n",
    "    * パスワードの確認\n",
    "    * フルネーム\n",
    "    * メールアドレス\n",
    "4. OKを数回押下\n",
    "\n",
    "### プラグインの導入\n",
    "1. Jenkinsの管理を選択\n",
    "2. Gitlab pluginを導入\n",
    "\n",
    "### ジョブの作成\n",
    "1. [新規ジョブ作成]を押下\n",
    "2. [Enter an item name]にジョブ名を入力\n",
    "    * sample\n",
    "3. スタイルを選択\n",
    "    * フリースタイル・プロジェクトのビルド\n",
    "4. OKを押下\n",
    "\n",
    "### ジョブの設定\n",
    "1. ジョブの設定として以下を行う\n",
    "    * ソース管理\n",
    "        * Gitを選択\n",
    "        * リポジトリURLにgitlabのリポジトリを入力\n",
    "            * http://157.1.141.86:10084/root/sample.git\n",
    "        * 認証情報を登録します(追加でjenkinsを押下)\n",
    "            * Domain: グローバルドメイン\n",
    "            * 種類: ユーザ名とパスワード\n",
    "            * ユーザ名: jenkins\n",
    "            * パスワード: jenkinsjenkins\n",
    "        * 登録したjenkinsを認証に設定します\n",
    "    * ビルド・トリガの設定\n",
    "        * [Build when a change is pushed to GitLab. GitLab CI Service URL: ]を選択\n",
    "            * 選択はデフォルトのまま\n",
    "            * 高度な設定を押下\n",
    "                * `Secret token`をGenerateしてトークンをコピーします\n",
    "2. 設定が完了した保存を押下\n"
   ]
  }
 ],
 "metadata": {
  "hide_input": false,
  "kernelspec": {
   "display_name": "Python 3",
   "language": "python",
   "name": "python3"
  },
  "language_info": {
   "codemirror_mode": {
    "name": "ipython",
    "version": 3
   },
   "file_extension": ".py",
   "mimetype": "text/x-python",
   "name": "python",
   "nbconvert_exporter": "python",
   "pygments_lexer": "ipython3",
   "version": "3.5.2"
  },
  "lc_notebook_meme": {
   "current": "49675748-b8c2-11e7-9f9e-0242ac110003",
   "lc_server_signature": {
    "current": {
     "notebook_dir": "/notebooks",
     "notebook_path": "/PaaSaaS/manuals",
     "server_url": "http://157.1.141.86:8889/",
     "signature_id": "71c2fe44-ace3-11e7-9f9e-0242ac110003"
    },
    "history": [
     {
      "notebook_dir": "/notebooks",
      "notebook_path": "/PaaSaaS_yoneda",
      "server_url": "http://157.1.141.86:8889/",
      "signature_id": "71c2fe44-ace3-11e7-9f9e-0242ac110003"
     }
    ]
   }
  },
  "toc": {
   "nav_menu": {},
   "number_sections": true,
   "sideBar": true,
   "skip_h1_title": false,
   "toc_cell": false,
   "toc_position": {},
   "toc_section_display": "block",
   "toc_window_display": false
  }
 },
 "nbformat": 4,
 "nbformat_minor": 2
}
