{
 "cells": [
  {
   "cell_type": "markdown",
   "metadata": {
    "lc_cell_meme": {
     "current": "1bf4bc00-b346-11e7-9f9e-0242ac110003",
     "history": [
      {
       "current": "1bf4bc00-b346-11e7-9f9e-0242ac110003",
       "next": null,
       "previous": null
      }
     ],
     "next": null,
     "previous": null
    }
   },
   "source": [
    "# Jenkinsとgitbucketの設定\n",
    "\n",
    "## Gitbucketの設定\n",
    "\n",
    "### ユーザ作成\n",
    "\n",
    "1. admin/adminで[Sign in]\n",
    "2．menu[System administration]を選択\n",
    "3. [New User]を押下\n",
    "4. 以下の項目を入力\n",
    "    * Username\n",
    "    * Password\n",
    "    * Full Name\n",
    "    * Mail Address\n",
    "5. [Create user]を押下\n",
    "6. menu[Sign out]を押下\n",
    "\n",
    "### リポジトリを作成\n",
    "1. 作成したユーザで[Sign in]\n",
    "2. menu[New repository]を選択\n",
    "3. Repository name[Sample]を入力\n",
    "4. [Create repository]を押下\n",
    "\n",
    "### WebHookの設定\n",
    "後述のJenkinsの設定が必要\n",
    "\n",
    "1. [Settings]を開く\n",
    "2. [Service Hooks]を選択\n",
    "3. [Add webhook]を押下\n",
    "4. [Payload URL]にJenkinsのURLを記入\n",
    "    * http://157.1.141.86:18081/jenkins/gitbucket-webhook/\n",
    "5. [Add webhook]を押下\n",
    "    \n",
    "\n",
    "## Jenkinsの設定\n",
    "\n",
    "### 初期化\n",
    "1. URLにアクセスするとトークンが求められるので`/var/jenkins_home/secrets/initialAdminPassword`調べて入力\n",
    "2. Install Pluginsを選択(すこしうろ覚え)\n",
    "3. 以下の項目を入力\n",
    "    * ユーザー名\n",
    "    * パスワード\n",
    "    * パスワードの確認\n",
    "    * フルネーム\n",
    "    * メールアドレス\n",
    "4. OKを数回押下\n",
    "\n",
    "### ジョブの作成\n",
    "1. [新規ジョブ作成]を押下\n",
    "2. [Enter an item name]にジョブ名を入力\n",
    "    * sample\n",
    "3. スタイルを選択\n",
    "    * フリースタイル・プロジェクトのビルド\n",
    "4. OKを押下\n",
    "\n",
    "### ジョブの設定\n",
    "1. ジョブの設定として以下を行う\n",
    "    * GitBucket\n",
    "        * URLにgitbucketのリポジトリを登録(.gitは不要)\n",
    "            * http://157.1.141.86:18080/m-yoneda/sample\n",
    "    * ソース管理\n",
    "        * Gitを選択\n",
    "        * リポジトリURLにgitbucketのリポジトリを入力\n",
    "            * http://157.1.141.86:18080/git/m-yoneda/sample.git\n",
    "    * ビルド・トリガの設定\n",
    "        * [Build when a change is pushed to GitBucket]を選択\n"
   ]
  }
 ],
 "metadata": {
  "hide_input": false,
  "kernelspec": {
   "display_name": "Python 3",
   "language": "python",
   "name": "python3"
  },
  "language_info": {
   "codemirror_mode": {
    "name": "ipython",
    "version": 3
   },
   "file_extension": ".py",
   "mimetype": "text/x-python",
   "name": "python",
   "nbconvert_exporter": "python",
   "pygments_lexer": "ipython3",
   "version": "3.5.2"
  },
  "lc_notebook_meme": {
   "current": "1bf4b8d6-b346-11e7-9f9e-0242ac110003",
   "lc_server_signature": {
    "current": {
     "notebook_dir": "/notebooks",
     "notebook_path": "/PaaSaaS/manuals",
     "server_url": "http://157.1.141.86:8889/",
     "signature_id": "71c2fe44-ace3-11e7-9f9e-0242ac110003"
    },
    "history": [
     {
      "notebook_dir": "/notebooks",
      "notebook_path": "/PaaSaas/yoneda",
      "server_url": "http://157.1.141.86:8889/",
      "signature_id": "71c2fe44-ace3-11e7-9f9e-0242ac110003"
     },
     {
      "notebook_dir": "/notebooks",
      "notebook_path": "/PaaSaaS_yoneda",
      "server_url": "http://157.1.141.86:8889/",
      "signature_id": "71c2fe44-ace3-11e7-9f9e-0242ac110003"
     }
    ]
   }
  },
  "toc": {
   "nav_menu": {},
   "number_sections": true,
   "sideBar": true,
   "skip_h1_title": false,
   "toc_cell": false,
   "toc_position": {},
   "toc_section_display": "block",
   "toc_window_display": false
  }
 },
 "nbformat": 4,
 "nbformat_minor": 2
}
