{
 "cells": [
  {
   "cell_type": "markdown",
   "metadata": {
    "lc_cell_meme": {
     "current": "07f102bc-af3c-11e7-9f9e-0242ac110003",
     "history": [
      {
       "current": "07f102bc-af3c-11e7-9f9e-0242ac110003",
       "next": "ab15a3a2-af38-11e7-9f9e-0242ac110003",
       "previous": "ab15a1e0-af38-11e7-9f9e-0242ac110003"
      },
      {
       "current": "07f102bc-af3c-11e7-9f9e-0242ac110003",
       "next": "ab15a1e0-af38-11e7-9f9e-0242ac110003",
       "previous": null
      },
      {
       "current": "07f102bc-af3c-11e7-9f9e-0242ac110003",
       "next": "ab15a3a2-af38-11e7-9f9e-0242ac110003",
       "previous": null
      }
     ],
     "next": "44adc786-af45-11e7-9f9e-0242ac110003",
     "previous": null
    }
   },
   "source": [
    "# PaaS環境構築用"
   ]
  },
  {
   "cell_type": "markdown",
   "metadata": {
    "lc_cell_meme": {
     "current": "44adc786-af45-11e7-9f9e-0242ac110003",
     "history": [
      {
       "current": "44adc786-af45-11e7-9f9e-0242ac110003",
       "next": "44adcae2-af45-11e7-9f9e-0242ac110003",
       "previous": "07f102bc-af3c-11e7-9f9e-0242ac110003"
      }
     ],
     "next": "8c5dd5e4-af45-11e7-9f9e-0242ac110003",
     "previous": "07f102bc-af3c-11e7-9f9e-0242ac110003"
    }
   },
   "source": [
    "## プロジェクト名の記入\n",
    "プロジェクト名を記入してください"
   ]
  },
  {
   "cell_type": "code",
   "execution_count": 1,
   "metadata": {
    "deletable": false,
    "editable": false,
    "lc_cell_meme": {
     "current": "8c5dd5e4-af45-11e7-9f9e-0242ac110003",
     "history": [
      {
       "current": "8c5dd5e4-af45-11e7-9f9e-0242ac110003",
       "next": "44adcae2-af45-11e7-9f9e-0242ac110003",
       "previous": "44adc786-af45-11e7-9f9e-0242ac110003"
      }
     ],
     "next": "40f8c81a-bfb8-11e7-9f9e-0242ac110003",
     "previous": "44adc786-af45-11e7-9f9e-0242ac110003"
    },
    "run_control": {
     "marked": true
    },
    "run_through_control": {
     "frozen": true
    }
   },
   "outputs": [
    {
     "data": {
      "application/vnd.jupyter.widget-view+json": {
       "model_id": "784be2b808024d949a760ed07b6ca14b",
       "version_major": 2,
       "version_minor": 0
      },
      "text/plain": [
       "A Jupyter Widget"
      ]
     },
     "metadata": {},
     "output_type": "display_data"
    }
   ],
   "source": [
    "from __future__ import print_function\n",
    "from ipywidgets import interact, interactive, fixed, interact_manual\n",
    "import ipywidgets as widgets\n",
    "from IPython.display import clear_output\n",
    "\n",
    "name = widgets.Text()\n",
    "name"
   ]
  },
  {
   "cell_type": "markdown",
   "metadata": {
    "lc_cell_meme": {
     "current": "40f8c81a-bfb8-11e7-9f9e-0242ac110003",
     "next": "40f8cc16-bfb8-11e7-9f9e-0242ac110003",
     "previous": "8c5dd5e4-af45-11e7-9f9e-0242ac110003"
    }
   },
   "source": [
    "## 配備対象ホスト(IPアドレス)の記入\n",
    "\n",
    "配備先のIPアドレスを入力してください"
   ]
  },
  {
   "cell_type": "code",
   "execution_count": 2,
   "metadata": {
    "deletable": false,
    "editable": false,
    "lc_cell_meme": {
     "current": "40f8cc16-bfb8-11e7-9f9e-0242ac110003",
     "history": [
      {
       "current": "40f8cc16-bfb8-11e7-9f9e-0242ac110003",
       "next": "44adcae2-af45-11e7-9f9e-0242ac110003",
       "previous": "40f8c81a-bfb8-11e7-9f9e-0242ac110003"
      }
     ],
     "next": "b7e0ee60-bfba-11e7-9f9e-0242ac110003",
     "previous": "40f8c81a-bfb8-11e7-9f9e-0242ac110003"
    },
    "run_through_control": {
     "frozen": true
    }
   },
   "outputs": [
    {
     "data": {
      "application/vnd.jupyter.widget-view+json": {
       "model_id": "7d20a6641fdc4c47ad541643c9b0b561",
       "version_major": 2,
       "version_minor": 0
      },
      "text/plain": [
       "A Jupyter Widget"
      ]
     },
     "metadata": {},
     "output_type": "display_data"
    }
   ],
   "source": [
    "import ipaddress\n",
    "\n",
    "ipaddr = widgets.Text()\n",
    "ipaddr"
   ]
  },
  {
   "cell_type": "markdown",
   "metadata": {
    "lc_cell_meme": {
     "current": "b7e0ee60-bfba-11e7-9f9e-0242ac110003",
     "history": [
      {
       "current": "b7e0ee60-bfba-11e7-9f9e-0242ac110003",
       "next": "44adcae2-af45-11e7-9f9e-0242ac110003",
       "previous": "40f8cc16-bfb8-11e7-9f9e-0242ac110003"
      }
     ],
     "next": "ff67341a-bfba-11e7-9f9e-0242ac110003",
     "previous": "40f8cc16-bfb8-11e7-9f9e-0242ac110003"
    }
   },
   "source": [
    "## 入力されたアドレスのチェック\n",
    "\n",
    "チェックボタンを押下して、入力したIPアドレスを確認してください"
   ]
  },
  {
   "cell_type": "code",
   "execution_count": 3,
   "metadata": {
    "deletable": false,
    "editable": false,
    "lc_cell_meme": {
     "current": "ff67341a-bfba-11e7-9f9e-0242ac110003",
     "next": "44adcae2-af45-11e7-9f9e-0242ac110003",
     "previous": "b7e0ee60-bfba-11e7-9f9e-0242ac110003"
    },
    "run_through_control": {
     "frozen": true
    }
   },
   "outputs": [
    {
     "data": {
      "application/vnd.jupyter.widget-view+json": {
       "model_id": "8d95def282494e8195912790b9d58aaf",
       "version_major": 2,
       "version_minor": 0
      },
      "text/plain": [
       "A Jupyter Widget"
      ]
     },
     "metadata": {},
     "output_type": "display_data"
    }
   ],
   "source": [
    "def on_check_button_clicked(b):\n",
    "    clear_output(wait=True)\n",
    "    # print(\"[DEBUG]: IP = %s\" % ipaddr.value)\n",
    "    try:\n",
    "        ipaddress.ip_network(ipaddr.value)\n",
    "        print(\"OK: 入力されたIPアドレスは正常です\")\n",
    "    except ValueError as e:\n",
    "        print(\"ERROR: 無効なIPアドレスです\")\n",
    "    display(check_button)\n",
    "\n",
    "check_button = widgets.Button(\n",
    "    description='Check',\n",
    "    disabled=False,\n",
    "    button_style='INFO',\n",
    "    tooltip='指定したIPアドレスを確認します',\n",
    "    icon='check'\n",
    ")\n",
    "display(check_button)\n",
    "check_button.on_click(on_check_button_clicked)"
   ]
  },
  {
   "cell_type": "markdown",
   "metadata": {
    "lc_cell_meme": {
     "current": "44adcae2-af45-11e7-9f9e-0242ac110003",
     "history": [
      {
       "current": "44adcae2-af45-11e7-9f9e-0242ac110003",
       "next": "ab15a3a2-af38-11e7-9f9e-0242ac110003",
       "previous": "44adc786-af45-11e7-9f9e-0242ac110003"
      },
      {
       "current": "44adcae2-af45-11e7-9f9e-0242ac110003",
       "next": "ab15a3a2-af38-11e7-9f9e-0242ac110003",
       "previous": "8c5dd5e4-af45-11e7-9f9e-0242ac110003"
      },
      {
       "current": "44adcae2-af45-11e7-9f9e-0242ac110003",
       "next": "ab15a3a2-af38-11e7-9f9e-0242ac110003",
       "previous": "40f8cc16-bfb8-11e7-9f9e-0242ac110003"
      },
      {
       "current": "44adcae2-af45-11e7-9f9e-0242ac110003",
       "next": "ab15a3a2-af38-11e7-9f9e-0242ac110003",
       "previous": "b7e0ee60-bfba-11e7-9f9e-0242ac110003"
      }
     ],
     "next": "ab15a3a2-af38-11e7-9f9e-0242ac110003",
     "previous": "ff67341a-bfba-11e7-9f9e-0242ac110003"
    }
   },
   "source": [
    "## git管理ツール選択\n",
    "使用するgit管理ツールを選択してください"
   ]
  },
  {
   "cell_type": "code",
   "execution_count": 4,
   "metadata": {
    "deletable": false,
    "editable": false,
    "lc_cell_meme": {
     "current": "ab15a3a2-af38-11e7-9f9e-0242ac110003",
     "history": [
      {
       "current": "ab15a3a2-af38-11e7-9f9e-0242ac110003",
       "next": "ab15a51e-af38-11e7-9f9e-0242ac110003",
       "previous": "ab15a1e0-af38-11e7-9f9e-0242ac110003"
      },
      {
       "current": "ab15a3a2-af38-11e7-9f9e-0242ac110003",
       "next": "ab15a51e-af38-11e7-9f9e-0242ac110003",
       "previous": "07f102bc-af3c-11e7-9f9e-0242ac110003"
      },
      {
       "current": "ab15a3a2-af38-11e7-9f9e-0242ac110003",
       "next": "ab15a51e-af38-11e7-9f9e-0242ac110003",
       "previous": "ab15a1e0-af38-11e7-9f9e-0242ac110003"
      },
      {
       "current": "ab15a3a2-af38-11e7-9f9e-0242ac110003",
       "next": "ab15a51e-af38-11e7-9f9e-0242ac110003",
       "previous": "07f102bc-af3c-11e7-9f9e-0242ac110003"
      },
      {
       "current": "ab15a3a2-af38-11e7-9f9e-0242ac110003",
       "next": "d38fde96-af3e-11e7-9f9e-0242ac110003",
       "previous": "07f102bc-af3c-11e7-9f9e-0242ac110003"
      },
      {
       "current": "ab15a3a2-af38-11e7-9f9e-0242ac110003",
       "next": "df0c338c-af43-11e7-9f9e-0242ac110003",
       "previous": "07f102bc-af3c-11e7-9f9e-0242ac110003"
      }
     ],
     "next": "df0c338c-af43-11e7-9f9e-0242ac110003",
     "previous": "44adcae2-af45-11e7-9f9e-0242ac110003"
    },
    "run_control": {
     "marked": true
    },
    "run_through_control": {
     "frozen": true
    }
   },
   "outputs": [
    {
     "data": {
      "application/vnd.jupyter.widget-view+json": {
       "model_id": "f3fa9df1c1d74838965f282cd7ee64af",
       "version_major": 2,
       "version_minor": 0
      },
      "text/plain": [
       "A Jupyter Widget"
      ]
     },
     "metadata": {},
     "output_type": "display_data"
    }
   ],
   "source": [
    "git = widgets.Select(\n",
    "    options=['gitlab', 'gitbucket'],\n",
    "    value='gitlab',\n",
    "    description='Git:',\n",
    "    disabled=False\n",
    ")\n",
    "\n",
    "display(git)"
   ]
  },
  {
   "cell_type": "markdown",
   "metadata": {
    "lc_cell_meme": {
     "current": "df0c338c-af43-11e7-9f9e-0242ac110003",
     "history": [
      {
       "current": "df0c338c-af43-11e7-9f9e-0242ac110003",
       "next": "3a2317f0-af39-11e7-9f9e-0242ac110003",
       "previous": "ab15a51e-af38-11e7-9f9e-0242ac110003"
      }
     ],
     "next": "3a2317f0-af39-11e7-9f9e-0242ac110003",
     "previous": "ab15a3a2-af38-11e7-9f9e-0242ac110003"
    }
   },
   "source": [
    "## Jenkinsの選択\n",
    "\n",
    "Jenkinsを利用するか選択してください。"
   ]
  },
  {
   "cell_type": "code",
   "execution_count": 5,
   "metadata": {
    "deletable": false,
    "editable": false,
    "lc_cell_meme": {
     "current": "3a2317f0-af39-11e7-9f9e-0242ac110003",
     "history": [
      {
       "current": "3a2317f0-af39-11e7-9f9e-0242ac110003",
       "next": "3a231ae8-af39-11e7-9f9e-0242ac110003",
       "previous": "ab15a51e-af38-11e7-9f9e-0242ac110003"
      },
      {
       "current": "3a2317f0-af39-11e7-9f9e-0242ac110003",
       "next": "3a231ae8-af39-11e7-9f9e-0242ac110003",
       "previous": "df0c338c-af43-11e7-9f9e-0242ac110003"
      }
     ],
     "next": "81a9a72e-af39-11e7-9f9e-0242ac110003",
     "previous": "df0c338c-af43-11e7-9f9e-0242ac110003"
    },
    "run_through_control": {
     "frozen": true
    }
   },
   "outputs": [
    {
     "data": {
      "application/vnd.jupyter.widget-view+json": {
       "model_id": "ae13e4b1088f49288598fdefdc247801",
       "version_major": 2,
       "version_minor": 0
      },
      "text/plain": [
       "A Jupyter Widget"
      ]
     },
     "metadata": {},
     "output_type": "display_data"
    }
   ],
   "source": [
    "jenkins = widgets.Checkbox(\n",
    "    value=False,\n",
    "    description='Jekinsを利用する',\n",
    "    disabled=False\n",
    ")\n",
    "\n",
    "jenkins"
   ]
  },
  {
   "cell_type": "markdown",
   "metadata": {
    "collapsed": true,
    "lc_cell_meme": {
     "current": "81a9a72e-af39-11e7-9f9e-0242ac110003",
     "history": [
      {
       "current": "81a9a72e-af39-11e7-9f9e-0242ac110003",
       "next": null,
       "previous": "3a231ae8-af39-11e7-9f9e-0242ac110003"
      },
      {
       "current": "81a9a72e-af39-11e7-9f9e-0242ac110003",
       "next": "df0c36b6-af43-11e7-9f9e-0242ac110003",
       "previous": "3a231ae8-af39-11e7-9f9e-0242ac110003"
      }
     ],
     "next": "df0c36b6-af43-11e7-9f9e-0242ac110003",
     "previous": "3a2317f0-af39-11e7-9f9e-0242ac110003"
    }
   },
   "source": [
    "## 選択の確認\n"
   ]
  },
  {
   "cell_type": "code",
   "execution_count": 6,
   "metadata": {
    "deletable": false,
    "editable": false,
    "lc_cell_meme": {
     "current": "df0c36b6-af43-11e7-9f9e-0242ac110003",
     "history": [
      {
       "current": "df0c36b6-af43-11e7-9f9e-0242ac110003",
       "next": null,
       "previous": "81a9a72e-af39-11e7-9f9e-0242ac110003"
      },
      {
       "current": "df0c36b6-af43-11e7-9f9e-0242ac110003",
       "next": "2692d9ea-af44-11e7-9f9e-0242ac110003",
       "previous": "81a9a72e-af39-11e7-9f9e-0242ac110003"
      }
     ],
     "next": "b60ef8ac-b344-11e7-9f9e-0242ac110003",
     "previous": "81a9a72e-af39-11e7-9f9e-0242ac110003"
    },
    "run_control": {
     "marked": true
    },
    "run_through_control": {
     "frozen": true
    }
   },
   "outputs": [
    {
     "data": {
      "application/vnd.jupyter.widget-view+json": {
       "model_id": "a13e1b8bae84455dabdb74a13d8711b7",
       "version_major": 2,
       "version_minor": 0
      },
      "text/plain": [
       "A Jupyter Widget"
      ]
     },
     "metadata": {},
     "output_type": "display_data"
    }
   ],
   "source": [
    "import sys\n",
    "from IPython.display import clear_output\n",
    "\n",
    "def on_confirm_button_clicked(b):\n",
    "    res = \"プロジェクト名:{prj}\\n配備対象:{ip}\\n{git_type}を利用する\\nJenkinsを利用{t_or_f}\"\n",
    "    result = \"する\" if jenkins.value else \"しない\"\n",
    "    output = res.format(\n",
    "        prj=name.value, ip=ipaddr.value, git_type=git.value, t_or_f=result)    \n",
    "    clear_output(wait=True)\n",
    "    sys.stdout.write(\"\\r%s\" % output)\n",
    "    sys.stdout.flush()\n",
    "    display(confirm_button)\n",
    "\n",
    "confirm_button = widgets.Button(\n",
    "    description='確認',\n",
    "    disabled=False,\n",
    "    button_style='INFO',\n",
    "    tooltip='構築内容を確認します',\n",
    "    icon='check'\n",
    ")\n",
    "display(confirm_button)\n",
    "confirm_button.on_click(on_confirm_button_clicked)"
   ]
  },
  {
   "cell_type": "markdown",
   "metadata": {
    "lc_cell_meme": {
     "current": "b60ef8ac-b344-11e7-9f9e-0242ac110003",
     "next": "62f20e54-af46-11e7-9f9e-0242ac110003",
     "previous": "df0c36b6-af43-11e7-9f9e-0242ac110003"
    }
   },
   "source": [
    "## Notebookの作成"
   ]
  },
  {
   "cell_type": "code",
   "execution_count": 7,
   "metadata": {
    "deletable": false,
    "editable": false,
    "lc_cell_meme": {
     "current": "62f20e54-af46-11e7-9f9e-0242ac110003",
     "history": [
      {
       "current": "62f20e54-af46-11e7-9f9e-0242ac110003",
       "next": null,
       "previous": "2692d9ea-af44-11e7-9f9e-0242ac110003"
      },
      {
       "current": "62f20e54-af46-11e7-9f9e-0242ac110003",
       "next": "80e3e1de-af47-11e7-9f9e-0242ac110003",
       "previous": "2692d9ea-af44-11e7-9f9e-0242ac110003"
      }
     ],
     "next": "80e3e1de-af47-11e7-9f9e-0242ac110003",
     "previous": "b60ef8ac-b344-11e7-9f9e-0242ac110003"
    },
    "run_control": {
     "marked": true
    },
    "run_through_control": {
     "frozen": true
    }
   },
   "outputs": [
    {
     "data": {
      "application/vnd.jupyter.widget-view+json": {
       "model_id": "076394a2e8df4f6b9fe0c2659609aade",
       "version_major": 2,
       "version_minor": 0
      },
      "text/plain": [
       "A Jupyter Widget"
      ]
     },
     "metadata": {},
     "output_type": "display_data"
    }
   ],
   "source": [
    "import copy\n",
    "import os\n",
    "import shutil\n",
    "from lib import nbmerger\n",
    "from IPython.display import clear_output\n",
    "from operator import itemgetter\n",
    "\n",
    "\n",
    "# Service Map definition\n",
    "# You can add additional service into following list.\n",
    "# You MUST be include following keys:\n",
    "#   'name': string of a service name\n",
    "#   'enabled': boolean which is selected to deploy\n",
    "#   'prefix': string of a file prefix number\n",
    "SVC_MAP = [\n",
    "    {'name': 'gitbucket', 'enabled': False, 'prefix': ''},\n",
    "    {'name': 'gitlab', 'enabled': False, 'prefix': ''},\n",
    "    {'name': 'jenkins', 'enabled': False, 'prefix': ''},\n",
    "]\n",
    "\n",
    "def merge_notebooks(targets, path):\n",
    "    merger = nbmerger.NbMerger(name.value, ipaddr.value)\n",
    "    merger.merge(targets)\n",
    "    merger.write(path)\n",
    "\n",
    "\n",
    "def on_button_clicked(b):\n",
    "    clear_output(wait=True)\n",
    "    outdir = 'outputs/' + name.value\n",
    "    services = [git.value]\n",
    "    if jenkins.value:\n",
    "        services.append('jenkins')\n",
    "    service_list = check_services(services)\n",
    "    if(os.path.exists(outdir) == False):\n",
    "        os.mkdir(outdir)\n",
    "        targets = [\n",
    "            'templates/' + s['name'] + '.ipynb'\n",
    "            for s in service_list if s['enabled']\n",
    "        ]\n",
    "        merge_notebooks(targets, outdir + \"/01_作業手順書.ipynb\")\n",
    "        copy_manuals(service_list)\n",
    "        print(\"作成が完了しました。(\" + outdir +\")\")\n",
    "    else:\n",
    "        print(\"作成はスキップされました。指定したプロジェクトは既に存在しています。(\" + outdir +\")\")\n",
    "    display(button)\n",
    "    b.disabled=True\n",
    "\n",
    "\n",
    "def _get_def(svc_list, service):\n",
    "    if not svc_list:\n",
    "        return None\n",
    "    return [s for s in svc_list if s['name'] == service][0]\n",
    "\n",
    "\n",
    "def _get_idx(svc_list, service):\n",
    "    if not svc_list:\n",
    "        return None    \n",
    "    return svc_list.index(_get_def(svc_list, service))\n",
    "\n",
    "\n",
    "def check_services(services):\n",
    "    svc_list = sorted(copy.deepcopy(SVC_MAP), key=itemgetter('name'))\n",
    "    for counter, name in enumerate(services):\n",
    "        idx = _get_idx(svc_list, name)\n",
    "        svc_list[idx]['enabled'] = True\n",
    "        svc_list[idx]['prefix'] = '0%s' % (counter + 1)\n",
    "        counter += 1\n",
    "    return svc_list\n",
    "\n",
    "\n",
    "def copy_manuals(service_list):\n",
    "    MIX_FORMAT = \"結合手順書_[%s]-[%s].ipynb\"\n",
    "    SINGLE_FORMAT = \"個別初期設定手順書_[%s].ipynb\"\n",
    "    src_dir = \"manuals/\"\n",
    "    dst_dir = \"outputs/\" + name.value + \"/\"\n",
    "\n",
    "    for svc in service_list:\n",
    "        if not svc['enabled']:\n",
    "            continue\n",
    "        src_file = SINGLE_FORMAT % svc['name']\n",
    "        src = src_dir + src_file\n",
    "        single_prefix = '02_' + svc['prefix'] + '_'\n",
    "        dest = dst_dir + single_prefix + src_file\n",
    "        shutil.copyfile(src, dest)\n",
    "\n",
    "        jenkins = _get_def(service_list, 'jenkins')\n",
    "\n",
    "        if not jenkins['enabled'] or svc['name'] == 'jenkins':\n",
    "            continue\n",
    "\n",
    "        src_file = MIX_FORMAT % (svc['name'], jenkins['name'])\n",
    "        src = src_dir + src_file\n",
    "        mix_prefix = '03_' + svc['prefix'] + '-' + jenkins['prefix'] + '_'\n",
    "        dest = dst_dir + mix_prefix + src_file\n",
    "        shutil.copyfile(src, dest)\n",
    "\n",
    "\n",
    "button = widgets.Button(\n",
    "    description='作成',\n",
    "    disabled=False,\n",
    "    button_style='INFO',\n",
    "    tooltip='notebookを作成します',\n",
    "    icon='check'\n",
    ")\n",
    "display(button)\n",
    "button.on_click(on_button_clicked)"
   ]
  },
  {
   "cell_type": "markdown",
   "metadata": {
    "collapsed": true,
    "lc_cell_meme": {
     "current": "80e3e1de-af47-11e7-9f9e-0242ac110003",
     "history": [
      {
       "current": "80e3e1de-af47-11e7-9f9e-0242ac110003",
       "next": null,
       "previous": "62f20e54-af46-11e7-9f9e-0242ac110003"
      }
     ],
     "next": "e6f329a8-b348-11e7-9f9e-0242ac110003",
     "previous": "62f20e54-af46-11e7-9f9e-0242ac110003"
    }
   },
   "source": [
    "## (暫定)リセット\n",
    "実行を一度押すと、Disableにして同じ設定で押せないようにするが、それをキャンセルするボタン。\n",
    "本当は設定変更等でリセットした方がいいので暫定対応\n",
    "\n",
    "\n",
    "outputをクリアする方法は不明。。\n",
    "\n"
   ]
  },
  {
   "cell_type": "code",
   "execution_count": 8,
   "metadata": {
    "deletable": false,
    "editable": false,
    "lc_cell_meme": {
     "current": "e6f329a8-b348-11e7-9f9e-0242ac110003",
     "next": null,
     "previous": "80e3e1de-af47-11e7-9f9e-0242ac110003"
    },
    "run_through_control": {
     "frozen": true
    }
   },
   "outputs": [
    {
     "data": {
      "application/vnd.jupyter.widget-view+json": {
       "model_id": "ac47a9b037a54dd592b220f3f22e25e7",
       "version_major": 2,
       "version_minor": 0
      },
      "text/plain": [
       "A Jupyter Widget"
      ]
     },
     "metadata": {},
     "output_type": "display_data"
    }
   ],
   "source": [
    "def on_button_enabled_clicked(b):\n",
    "    button.disabled=False\n",
    "    \n",
    "reset_button = widgets.Button(\n",
    "    description='リセット',\n",
    "    disabled=False,\n",
    "    button_style='INFO',\n",
    "    tooltip='作成ボタンを有効化します',\n",
    "    icon='check'\n",
    ")\n",
    "display(reset_button)\n",
    "reset_button.on_click(on_button_enabled_clicked)\n"
   ]
  }
 ],
 "metadata": {
  "hide_input": true,
  "kernelspec": {
   "display_name": "Python 3",
   "language": "python",
   "name": "python3"
  },
  "language_info": {
   "codemirror_mode": {
    "name": "ipython",
    "version": 3
   },
   "file_extension": ".py",
   "mimetype": "text/x-python",
   "name": "python",
   "nbconvert_exporter": "python",
   "pygments_lexer": "ipython3",
   "version": "3.5.2"
  },
  "lc_notebook_meme": {
   "current": "ab159ed4-af38-11e7-9f9e-0242ac110003",
   "lc_server_signature": {
    "current": {
     "notebook_dir": "/notebooks",
     "notebook_path": "/PaaSaaS",
     "server_url": "http://157.1.141.86:8889/",
     "signature_id": "71c2fe44-ace3-11e7-9f9e-0242ac110003"
    },
    "history": [
     {
      "notebook_dir": "/notebooks",
      "notebook_path": "/PaaSaas",
      "server_url": "http://157.1.141.86:8889/",
      "signature_id": "71c2fe44-ace3-11e7-9f9e-0242ac110003"
     },
     {
      "notebook_dir": "/notebooks",
      "notebook_path": "/PaaSaaS_yoneda",
      "server_url": "http://157.1.141.86:8889/",
      "signature_id": "71c2fe44-ace3-11e7-9f9e-0242ac110003"
     }
    ]
   }
  },
  "toc": {
   "nav_menu": {},
   "number_sections": true,
   "sideBar": true,
   "skip_h1_title": false,
   "toc_cell": false,
   "toc_position": {
    "height": "809px",
    "left": "0px",
    "right": "746px",
    "top": "130px",
    "width": "212px"
   },
   "toc_section_display": "block",
   "toc_window_display": true
  }
 },
 "nbformat": 4,
 "nbformat_minor": 2
}
