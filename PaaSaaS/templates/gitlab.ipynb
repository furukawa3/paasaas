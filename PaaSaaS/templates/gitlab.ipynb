{
 "cells": [
  {
   "cell_type": "markdown",
   "metadata": {
    "lc_cell_meme": {
     "current": "68d7bf7e-ba47-11e7-9f9e-0242ac110003",
     "next": "68d7c172-ba47-11e7-9f9e-0242ac110003",
     "previous": null
    }
   },
   "source": [
    "# パラーメータ設定"
   ]
  },
  {
   "cell_type": "code",
   "execution_count": null,
   "metadata": {
    "collapsed": true,
    "lc_cell_meme": {
     "current": "68d7c172-ba47-11e7-9f9e-0242ac110003",
     "next": "68d7c320-ba47-11e7-9f9e-0242ac110003",
     "previous": "68d7bf7e-ba47-11e7-9f9e-0242ac110003"
    },
    "tag": "parameters"
   },
   "outputs": [],
   "source": [
    "#gitlab パラメータ設定\n",
    "#nop"
   ]
  },
  {
   "cell_type": "markdown",
   "metadata": {
    "lc_cell_meme": {
     "current": "68d7c320-ba47-11e7-9f9e-0242ac110003",
     "next": "68d7c4a6-ba47-11e7-9f9e-0242ac110003",
     "previous": "68d7c172-ba47-11e7-9f9e-0242ac110003"
    }
   },
   "source": [
    "# docker-compose設定"
   ]
  },
  {
   "cell_type": "code",
   "execution_count": null,
   "metadata": {
    "collapsed": true,
    "lc_cell_meme": {
     "current": "68d7c4a6-ba47-11e7-9f9e-0242ac110003",
     "next": "68d7c62c-ba47-11e7-9f9e-0242ac110003",
     "previous": "68d7c320-ba47-11e7-9f9e-0242ac110003"
    },
    "tag": "docker-compose"
   },
   "outputs": [],
   "source": [
    "gitlab:\n",
    "  image: 'gitlab/gitlab-ce:latest'\n",
    "  restart: always\n",
    "  hostname: 'gitlab.example.com'\n",
    "  #environment:\n",
    "  #  GITLAB_OMNIBUS_CONFIG: |\n",
    "      # TODO(yushiro): Consider HTTPS configuration. See http://docs.gitlab.com/omnibus/settings/nginx.html#enable-https\n",
    "      #external_url 'https://gitlab.example.com'\n",
    "      #nginx['redirect_http_to_https'] = true\n",
    "      # Add any other gitlab.rb configuration here, each on its own line\n",
    "  ports:\n",
    "    - '50200:80'\n",
    "    - '50201:443'\n",
    "    - '50202:22'\n",
    "  volumes:\n",
    "    - './volumes/gitlab/config:/etc/gitlab'\n",
    "    - './volumes/gitlab/logs:/var/log/gitlab'\n",
    "    - './volumes/gitlab/data:/var/opt/gitlab'"
   ]
  },
  {
   "cell_type": "markdown",
   "metadata": {
    "lc_cell_meme": {
     "current": "68d7c62c-ba47-11e7-9f9e-0242ac110003",
     "next": "68d7c7a8-ba47-11e7-9f9e-0242ac110003",
     "previous": "68d7c4a6-ba47-11e7-9f9e-0242ac110003"
    }
   },
   "source": [
    "# 永続化設定"
   ]
  },
  {
   "cell_type": "code",
   "execution_count": null,
   "metadata": {
    "collapsed": true,
    "lc_cell_meme": {
     "current": "68d7c7a8-ba47-11e7-9f9e-0242ac110003",
     "next": null,
     "previous": "68d7c62c-ba47-11e7-9f9e-0242ac110003"
    },
    "tag": "permanent-dir"
   },
   "outputs": [],
   "source": [
    "#gitlab 永続化設定\n",
    "!ansible -b -m file -a 'path=/mnt/container/volumes/gitlab state=directory mode=0777' {target_host}"
   ]
  }
 ],
 "metadata": {
  "celltoolbar": "Edit Metadata",
  "hide_input": false,
  "kernelspec": {
   "display_name": "Python 3 (LC_wrapper)",
   "language": "python",
   "name": "python3-wrapper"
  },
  "language_info": {
   "file_extension": ".py",
   "mimetype": "text/x-python",
   "name": "python",
   "nbconvert_exporter": "python",
   "pygments_lexer": "ipython3",
   "version": "3.5.2"
  },
  "lc_notebook_meme": {
   "current": "68d7bc22-ba47-11e7-9f9e-0242ac110003",
   "lc_server_signature": {
    "current": {
     "notebook_dir": "/notebooks",
     "notebook_path": "/PaaSaaS/templates",
     "server_url": "http://157.1.141.86:8889/",
     "signature_id": "71c2fe44-ace3-11e7-9f9e-0242ac110003"
    },
    "history": []
   }
  },
  "tag": "gitlab",
  "toc": {
   "nav_menu": {},
   "number_sections": true,
   "sideBar": true,
   "skip_h1_title": false,
   "toc_cell": false,
   "toc_position": {},
   "toc_section_display": "block",
   "toc_window_display": false
  }
 },
 "nbformat": 4,
 "nbformat_minor": 2
}
